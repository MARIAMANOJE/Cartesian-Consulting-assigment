{
 "cells": [
  {
   "cell_type": "markdown",
   "id": "046ba387",
   "metadata": {},
   "source": [
    "# ASSIGMENT USING ANY PROGRSMING LANGUAGE ( PYTHON)"
   ]
  },
  {
   "cell_type": "code",
   "execution_count": 3,
   "id": "5e81d6af",
   "metadata": {},
   "outputs": [
    {
     "name": "stdout",
     "output_type": "stream",
     "text": [
      "This declaration represents a political commitment among declaration partners to advance a positive vision for the Internet in this era of a united europe\n",
      "Printing word in reverse:\n",
      "\n",
      "Europe united a of era this in internet the for vision positive a advance to partners declaration among commitment political a represents declaration this\n",
      "\n",
      "Occurrence of words:\n",
      "\n",
      "a : 3 times\n",
      "this : 2 times\n"
     ]
    }
   ],
   "source": [
    "from statistics import mode\n",
    "K = input().lower().split(' ')\n",
    "K.reverse()\n",
    "K[0] = K[0].capitalize()\n",
    "print('Printing word in reverse:')\n",
    "print()\n",
    "print(*K)\n",
    "print()\n",
    "print('Occurrence of words:')\n",
    "print()\n",
    "temp = [wrd for sub in K for wrd in sub.split()]\n",
    "print(mode(temp),':',str(K.count(mode(temp))),'times')\n",
    "temp = [i for i in temp if i != mode(temp)]\n",
    "print(mode(temp),':',str(K.count(mode(temp))),'times')"
   ]
  },
  {
   "cell_type": "markdown",
   "id": "f2eabe9f",
   "metadata": {},
   "source": [
    "# # ASSIGMENT USING SQL \n",
    "\n",
    "ASSIGMENT - 01SQL(QUERY)"
   ]
  },
  {
   "cell_type": "code",
   "execution_count": null,
   "id": "56cf5fe8",
   "metadata": {},
   "outputs": [],
   "source": [
    "CREATE DATABASE dataset\n",
    "use dataset\n",
    "CREATE TABLE sales_detail(\n",
    "Cat_Id INT,Product_Id INT\n",
    ",Trending INT)\n",
    "INSERT INTO sales_detail VALUES\n",
    "('1' ,'100','1'),\n",
    "('1' ,'100','2'),\n",
    "('1' ,'100','1'),\n",
    "('1' ,'100','2'),\n",
    "('1' ,'200','1'),\n",
    "('1' ,'200','2'),\n",
    "('2' ,'300','1'),\n",
    "('2','300','2'),\n",
    "('2' ,'300','1'),\n",
    "('2' ,'301','2'),\n",
    "('3' ,'401','1'),\n",
    "('3' ,'402','2'),\n",
    "('3' ,'403','1')\n",
    "SELECT * FROM sales_detail  \n",
    "ORDER BY Cat_Id DESC"
   ]
  },
  {
   "cell_type": "markdown",
   "id": "6df0415c",
   "metadata": {},
   "source": [
    "# ASSIGMENT - 02SQL( QUERY)"
   ]
  },
  {
   "cell_type": "code",
   "execution_count": null,
   "id": "3b723bc6",
   "metadata": {},
   "outputs": [],
   "source": [
    "CREATE TABLE Customer (Customer_Id varchar(255));\n",
    " INSERT INTO Customer VALUES('Customer_Id'),('Abhinash'),('Vipin'),('Mahesh'),('Bijoy'),('Bhabani'),('Ashutosh')\n",
    "    \n",
    " CREATE TABLE Voucher (Voucher_Id varchar(255) UNIQUE);\n",
    " INSERT INTO Voucher VALUES('ABXFH'),('SDFGH'),('ERTYY'),('PPLKM')\n",
    "    \n",
    " ;with cte \n",
    " as(select *,row_number() over(order by Customer_Id) rr from Customer)\n",
    " ,cte2 as(select *,row_number() over(order by Voucher_Id) rr from Voucher)\n",
    "    \n",
    " select Customer_Id Customer_Key,Voucher_Id Gift_Voucher_Key\n",
    " from cte c1\n",
    " join cte2 c2 on c1.rr=c2.rr"
   ]
  },
  {
   "cell_type": "markdown",
   "id": "6bddb31b",
   "metadata": {},
   "source": [
    "# ASSIGMENT USING UNIX SHELL PROGRAMMING\n",
    "\n",
    "ASSIGMENT - 02UNIX"
   ]
  },
  {
   "cell_type": "code",
   "execution_count": null,
   "id": "c31a40ae",
   "metadata": {},
   "outputs": [],
   "source": [
    "mkdir grocery\n",
    "cd grocery\n",
    "pwd\n",
    "cat purchase_history_02Jan21.txt\n",
    "cat purchase_history_03Jan21.txt \n",
    "cat purchase_history_31Jan21.txt \n",
    "cat purchase_history_02Jan21.txt purchase_history_03Jan21.txt purchase_history_31Jan21.txt >>purchase_history_JanAll.txt"
   ]
  }
 ],
 "metadata": {
  "kernelspec": {
   "display_name": "Python 3 (ipykernel)",
   "language": "python",
   "name": "python3"
  },
  "language_info": {
   "codemirror_mode": {
    "name": "ipython",
    "version": 3
   },
   "file_extension": ".py",
   "mimetype": "text/x-python",
   "name": "python",
   "nbconvert_exporter": "python",
   "pygments_lexer": "ipython3",
   "version": "3.9.7"
  }
 },
 "nbformat": 4,
 "nbformat_minor": 5
}
